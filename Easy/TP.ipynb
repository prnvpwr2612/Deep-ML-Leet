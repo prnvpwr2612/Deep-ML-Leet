{
 "cells": [
  {
   "cell_type": "code",
   "execution_count": 39,
   "metadata": {},
   "outputs": [],
   "source": [
    "def matrix_dot_vector(a:list[list[int|float]],b:list[int|float])-> list[int|float]:\n",
    "    list2 = [col*(d for d in b) for col in zip(*a)]\n",
    "    print(list2)\n",
    "\n",
    "    #return c"
   ]
  },
  {
   "cell_type": "code",
   "execution_count": 33,
   "metadata": {},
   "outputs": [],
   "source": [
    "A = [[1,2],[2,4]]\n",
    "B = [1,2]"
   ]
  },
  {
   "cell_type": "code",
   "execution_count": 42,
   "metadata": {},
   "outputs": [
    {
     "name": "stdout",
     "output_type": "stream",
     "text": [
      "1: 0.0 secs\n",
      "2: 0.0 secs\n",
      "Result Matrix 1: [[1, 2], [3, 4], [5, 6], [7, 8]]\n",
      "Result Matrix 2: [[1, 2], [3, 4], [5, 6], [7, 8]]\n"
     ]
    }
   ],
   "source": [
    "import numpy as np\n",
    "import time\n",
    "\n",
    "def reshape_matrix1(a: list[list[int]], new_shape: tuple[int, int]) -> list[list[int]]:\n",
    "    return np.array(a).reshape(new_shape).tolist()\n",
    "\n",
    "def reshape_matrix2(a: list[list[int]], new_shape: tuple[int, int]) -> list[list[int]]:\n",
    "    a_new = np.array(a)\n",
    "    new_row = new_shape[0]\n",
    "    new_column = new_shape[1]\n",
    "    reshaped_matrix = a_new.reshape(new_row, new_column)\n",
    "    c = reshaped_matrix.tolist()\n",
    "    return c\n",
    "\n",
    "# Example input\n",
    "a = [[1, 2, 3, 4], [5, 6, 7, 8]]\n",
    "new_shape = (4, 2)\n",
    "\n",
    "# Timing reshape_matrix1\n",
    "start_time1 = time.time()\n",
    "result_matrix1 = reshape_matrix1(a, new_shape)\n",
    "end_time1 = time.time()\n",
    "\n",
    "# Timing reshape_matrix2\n",
    "start_time2 = time.time()\n",
    "result_matrix2 = reshape_matrix2(a, new_shape)\n",
    "end_time2 = time.time()\n",
    "\n",
    "print(f\"1: {end_time1 - start_time1} secs\")\n",
    "print(f\"2: {end_time2 - start_time2} secs\")\n",
    "\n",
    "# Optional: Print the results to verify correctness\n",
    "print(\"Result Matrix 1:\", result_matrix1)\n",
    "print(\"Result Matrix 2:\", result_matrix2)"
   ]
  },
  {
   "cell_type": "code",
   "execution_count": 40,
   "metadata": {},
   "outputs": [
    {
     "ename": "TypeError",
     "evalue": "can't multiply sequence by non-int of type 'generator'",
     "output_type": "error",
     "traceback": [
      "\u001b[1;31m---------------------------------------------------------------------------\u001b[0m",
      "\u001b[1;31mTypeError\u001b[0m                                 Traceback (most recent call last)",
      "Cell \u001b[1;32mIn[40], line 1\u001b[0m\n\u001b[1;32m----> 1\u001b[0m \u001b[43mmatrix_dot_vector\u001b[49m\u001b[43m(\u001b[49m\u001b[43mA\u001b[49m\u001b[43m,\u001b[49m\u001b[43mB\u001b[49m\u001b[43m)\u001b[49m\n",
      "Cell \u001b[1;32mIn[39], line 2\u001b[0m, in \u001b[0;36mmatrix_dot_vector\u001b[1;34m(a, b)\u001b[0m\n\u001b[0;32m      1\u001b[0m \u001b[38;5;28;01mdef\u001b[39;00m \u001b[38;5;21mmatrix_dot_vector\u001b[39m(a:\u001b[38;5;28mlist\u001b[39m[\u001b[38;5;28mlist\u001b[39m[\u001b[38;5;28mint\u001b[39m\u001b[38;5;241m|\u001b[39m\u001b[38;5;28mfloat\u001b[39m]],b:\u001b[38;5;28mlist\u001b[39m[\u001b[38;5;28mint\u001b[39m\u001b[38;5;241m|\u001b[39m\u001b[38;5;28mfloat\u001b[39m])\u001b[38;5;241m-\u001b[39m\u001b[38;5;241m>\u001b[39m \u001b[38;5;28mlist\u001b[39m[\u001b[38;5;28mint\u001b[39m\u001b[38;5;241m|\u001b[39m\u001b[38;5;28mfloat\u001b[39m]:\n\u001b[1;32m----> 2\u001b[0m     list2 \u001b[38;5;241m=\u001b[39m [\u001b[43mcol\u001b[49m\u001b[38;5;241;43m*\u001b[39;49m\u001b[43m(\u001b[49m\u001b[43md\u001b[49m\u001b[43m \u001b[49m\u001b[38;5;28;43;01mfor\u001b[39;49;00m\u001b[43m \u001b[49m\u001b[43md\u001b[49m\u001b[43m \u001b[49m\u001b[38;5;129;43;01min\u001b[39;49;00m\u001b[43m \u001b[49m\u001b[43mb\u001b[49m\u001b[43m)\u001b[49m \u001b[38;5;28;01mfor\u001b[39;00m col \u001b[38;5;129;01min\u001b[39;00m \u001b[38;5;28mzip\u001b[39m(\u001b[38;5;241m*\u001b[39ma)]\n\u001b[0;32m      3\u001b[0m     \u001b[38;5;28mprint\u001b[39m(list2)\n",
      "\u001b[1;31mTypeError\u001b[0m: can't multiply sequence by non-int of type 'generator'"
     ]
    }
   ],
   "source": [
    "matrix_dot_vector(A,B)"
   ]
  }
 ],
 "metadata": {
  "kernelspec": {
   "display_name": "Python 3",
   "language": "python",
   "name": "python3"
  },
  "language_info": {
   "codemirror_mode": {
    "name": "ipython",
    "version": 3
   },
   "file_extension": ".py",
   "mimetype": "text/x-python",
   "name": "python",
   "nbconvert_exporter": "python",
   "pygments_lexer": "ipython3",
   "version": "3.12.4"
  }
 },
 "nbformat": 4,
 "nbformat_minor": 2
}
