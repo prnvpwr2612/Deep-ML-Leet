{
 "cells": [
  {
   "cell_type": "code",
   "execution_count": 4,
   "metadata": {},
   "outputs": [
    {
     "name": "stdout",
     "output_type": "stream",
     "text": [
      "[[0, 0, 1, 0, 0], [0, 0, 0, 1, 0], [0, 0, 0, 0, 1]]\n"
     ]
    }
   ],
   "source": [
    "import numpy as np\n",
    "\n",
    "def to_categorical(x, n_col=None):\n",
    "    array_result= []\n",
    "    classes=max(x)+1\n",
    "    arrayi = []\n",
    "    for i in x:\n",
    "        arrayi=[0]*classes\n",
    "        arrayi[i]=1\n",
    "        array_result.append(arrayi)\n",
    "    return array_result\n",
    "\n",
    "A = [2,3,4]\n",
    "print(to_categorical(A))"
   ]
  }
 ],
 "metadata": {
  "kernelspec": {
   "display_name": "Python 3",
   "language": "python",
   "name": "python3"
  },
  "language_info": {
   "codemirror_mode": {
    "name": "ipython",
    "version": 3
   },
   "file_extension": ".py",
   "mimetype": "text/x-python",
   "name": "python",
   "nbconvert_exporter": "python",
   "pygments_lexer": "ipython3",
   "version": "3.12.4"
  }
 },
 "nbformat": 4,
 "nbformat_minor": 2
}
